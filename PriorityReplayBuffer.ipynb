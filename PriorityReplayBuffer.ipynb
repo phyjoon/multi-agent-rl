{
 "cells": [
  {
   "cell_type": "markdown",
   "metadata": {},
   "source": [
    "In this notebook we will implement the priority replay buffer as described in Schaul et. al.'s [paper](https://arxiv.org/abs/1511.05952), where experiences are assigned a priority based on their TD error ($\\delta$): experiences with higher $\\delta$ are given a higher priority. New experiences for which we have not yet evaluated a TD error will be assigned the maximimal priority seen so far. In the paper they described two variants of prioritized replay:\n",
    "\n",
    "- Proportional prioritization : ```p_i = delta_i + \\epsilon ```, \" where ```epsilon``` is a small positive constant that prevents the edge-case of transitions not being revisited once their error is zero \"\n",
    "\n",
    "- Rank based prioritization: ```p_i = 1/rank_i``` where the rank is assigned to an experience based on its position if the memories were sorted in order of decreasing TD error.  \n",
    "\n",
    "Schaul et. al. report that on most of the games in the Atari 2600 suite both the Proportional and the Rank based prioritization have similar performance (although, \" there are games where one of them remains close to the Double DQN baseline while the other one leads to a big boost, for example Double Dunk or Surround for the rank-based variant, and Alien, Asterix, Enduro, Phoenix or Space\n",
    "Invaders for the proportional variant. \")\n",
    "\n",
    "In this notebook, we  will work on implementing \"Proportional prioritization\" based on a sum-tree.\n",
    "\n",
    "A sum-tree is  a binary tree where the value of the parent node is equal to the value of its two children. In our case, the leaves of the tree will correspond to the indices of the the memory buffer. The values of the leaves will correspond to the priority of the experience being stored at corresponding index in the buffer. "
   ]
  },
  {
   "cell_type": "code",
   "execution_count": 1,
   "metadata": {},
   "outputs": [],
   "source": [
    "import numpy as np"
   ]
  },
  {
   "cell_type": "code",
   "execution_count": 2,
   "metadata": {},
   "outputs": [],
   "source": [
    "class sum_tree():\n",
    "    def __init__(self, num_memories):\n",
    "        self.num_memories = num_memories\n",
    "        self.num_levels = int(np.ceil(np.log2(num_memories)+1))\n",
    "        self.num_vertices = int(2**self.num_levels-1)\n",
    "        self.tree_array = np.zeros(shape = self.num_vertices) # the 0-th entry is the root; children of i: 2i+1, 2i+2\n",
    "        \n",
    "    def get_children(self, i):\n",
    "        # get the values of the children of the i-th node\n",
    "        try:\n",
    "            return [self.tree_array[2*i+1], self.tree_array[2*i+2]]\n",
    "        except:\n",
    "            return [None, None]\n",
    "    \n",
    "    def get_parent(self, i):\n",
    "        # get the value of the parent of the i-th node\n",
    "        return self.tree_array[(i-1)//2]\n",
    "    \n",
    "    def get_value(self, i):\n",
    "        # get the value of i-th node\n",
    "        return self.tree_array[i]\n",
    "    \n",
    "    def update_val(self, i, val):\n",
    "        # update the value of the i-th node\n",
    "        # This will also require us to update the value of its parent in order to maintian the sum-tree property\n",
    "        self.tree_array[i] = val\n",
    "        if not i==0:\n",
    "            parent = (i-1)//2\n",
    "            new_parent_val = sum(self.get_children(parent))\n",
    "            self.update_val(parent, new_parent_val)        \n",
    "            \n",
    "    def get_sample_id(self, priority, current_index = 0):\n",
    "        # get a sample corresponding to the input priority by traversing the tree starting from node at current_index\n",
    "        \n",
    "        print(priority, current_index)\n",
    "        if priority > self.get_value(current_index):\n",
    "            raise ValueError(\"priority should be less than value of current index\")\n",
    "            \n",
    "        left_c, right_c = self.get_children(current_index)\n",
    "        \n",
    "        print\n",
    "        if left_c == None:\n",
    "            # we have reached the leaf node\n",
    "            return current_index\n",
    "        \n",
    "        if priority <= left_c:\n",
    "            sample_id = self.get_sample_id(priority, 2*current_index+1)\n",
    "            return sample_id\n",
    "        else:    \n",
    "            sample_id = self.get_sample_id(priority-left_c, 2*current_index+2)\n",
    "            return sample_id\n",
    "        \n",
    "    def max_leaf_value(self):\n",
    "        # get the maximum value amongsts all the leaves\n",
    "        return max(self.tree_array[2**(self.num_levels-2)+1:])\n",
    "        "
   ]
  },
  {
   "cell_type": "code",
   "execution_count": 3,
   "metadata": {},
   "outputs": [
    {
     "name": "stdout",
     "output_type": "stream",
     "text": [
      "3 7 [0. 0. 0. 0. 0. 0. 0.]\n"
     ]
    }
   ],
   "source": [
    "tree = sum_tree(4)\n",
    "print(tree.num_levels, tree.num_vertices, tree.tree_array)"
   ]
  },
  {
   "cell_type": "code",
   "execution_count": 4,
   "metadata": {},
   "outputs": [
    {
     "data": {
      "text/plain": [
       "[6, 8, 10, 12]"
      ]
     },
     "execution_count": 4,
     "metadata": {},
     "output_type": "execute_result"
    }
   ],
   "source": [
    "leaf_indices = range(3,7)\n",
    "priorities = list(map(lambda x: 2*x, leaf_indices))\n",
    "priorities"
   ]
  },
  {
   "cell_type": "code",
   "execution_count": 5,
   "metadata": {},
   "outputs": [],
   "source": [
    "for ind, val in zip(leaf_indices, priorities):\n",
    "    tree.update_val(ind, val)"
   ]
  },
  {
   "cell_type": "code",
   "execution_count": 6,
   "metadata": {},
   "outputs": [
    {
     "data": {
      "text/plain": [
       "array([36., 14., 22.,  6.,  8., 10., 12.])"
      ]
     },
     "execution_count": 6,
     "metadata": {},
     "output_type": "execute_result"
    }
   ],
   "source": [
    "tree.tree_array"
   ]
  },
  {
   "cell_type": "code",
   "execution_count": 7,
   "metadata": {},
   "outputs": [
    {
     "data": {
      "text/plain": [
       "[None, None]"
      ]
     },
     "execution_count": 7,
     "metadata": {},
     "output_type": "execute_result"
    }
   ],
   "source": [
    "tree.get_children(3)"
   ]
  },
  {
   "cell_type": "code",
   "execution_count": 8,
   "metadata": {},
   "outputs": [
    {
     "name": "stdout",
     "output_type": "stream",
     "text": [
      "20 0\n",
      "6.0 2\n",
      "6.0 5\n"
     ]
    },
    {
     "data": {
      "text/plain": [
       "5"
      ]
     },
     "execution_count": 8,
     "metadata": {},
     "output_type": "execute_result"
    }
   ],
   "source": [
    "sample_id = tree.get_sample_id(20)\n",
    "sample_id"
   ]
  },
  {
   "cell_type": "code",
   "execution_count": 9,
   "metadata": {},
   "outputs": [
    {
     "data": {
      "text/plain": [
       "12.0"
      ]
     },
     "execution_count": 9,
     "metadata": {},
     "output_type": "execute_result"
    }
   ],
   "source": [
    "tree.max_leaf_value()"
   ]
  },
  {
   "cell_type": "code",
   "execution_count": 10,
   "metadata": {},
   "outputs": [
    {
     "data": {
      "text/plain": [
       "array([ 6.,  8., 10., 12.])"
      ]
     },
     "execution_count": 10,
     "metadata": {},
     "output_type": "execute_result"
    }
   ],
   "source": [
    "tree.tree_array[2**(tree.num_levels-2)+1:]"
   ]
  },
  {
   "cell_type": "code",
   "execution_count": null,
   "metadata": {},
   "outputs": [],
   "source": []
  }
 ],
 "metadata": {
  "kernelspec": {
   "display_name": "Python [conda env:flatland-rl]",
   "language": "python",
   "name": "conda-env-flatland-rl-py"
  },
  "language_info": {
   "codemirror_mode": {
    "name": "ipython",
    "version": 3
   },
   "file_extension": ".py",
   "mimetype": "text/x-python",
   "name": "python",
   "nbconvert_exporter": "python",
   "pygments_lexer": "ipython3",
   "version": "3.6.10"
  }
 },
 "nbformat": 4,
 "nbformat_minor": 4
}
