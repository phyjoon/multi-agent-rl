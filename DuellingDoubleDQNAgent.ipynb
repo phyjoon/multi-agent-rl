{
 "cells": [
  {
   "cell_type": "markdown",
   "metadata": {},
   "source": [
    "In this notebook we will implement a DQN agent that uses the DQN network defined in [DuellingDoubleDQN.py](DuellingDoubleDQN.py) and the replay buffer defined in [prioritized replay buffer](PrioritizedReplayBuffer.py). Notice that we also need to implement Importance Sampling in order to properly use the prioritized replay buffer."
   ]
  },
  {
   "cell_type": "code",
   "execution_count": 1,
   "metadata": {},
   "outputs": [],
   "source": [
    "import torch \n",
    "import torch.nn as nn\n",
    "from torch.nn import functional as F\n",
    "import numpy as np\n",
    "\n",
    "from DuellingDoubleDQN import DuellingDQN\n",
    "from PrioritizedReplayBuffer import PrioritizedReplay"
   ]
  },
  {
   "cell_type": "code",
   "execution_count": 2,
   "metadata": {},
   "outputs": [
    {
     "name": "stdout",
     "output_type": "stream",
     "text": [
      "cuda\n"
     ]
    }
   ],
   "source": [
    "device = torch.device('cuda') if torch.cuda.is_available() else torch.device('cpu')\n",
    "print(device)"
   ]
  },
  {
   "cell_type": "code",
   "execution_count": 3,
   "metadata": {},
   "outputs": [],
   "source": [
    "class DuellingDoubleDQNAgent():\n",
    "    \"\"\"\n",
    "    device = cpu or gpu\n",
    "    num_agents: number of agents \n",
    "    im_height: height of input image\n",
    "    im_width: width of input image\n",
    "    obs_in_channels: number of input channels of the grid image\n",
    "    conv_dim: number of channels after passing through 1st conv. layer of the DQN \n",
    "    kernel_size: kernel size of the conv. layers in the DQN\n",
    "    n_action: number of discrete actions\n",
    "    buffer_size: replay buffer size; default 2^20 ~ 10^6; For creating sum tree it is better give buffer_size in powers of 2\n",
    "    roll_out: length of roll out for n-step bootstrap\n",
    "    replay_batch_size: batch_size of replay \n",
    "    epsilon: exploration rate\n",
    "    epsilon_decay_rate: rate by which to scale down epsilon after every few steps\n",
    "    tau: parameter for soft update of the target network\n",
    "    gamma: discount factor for discouted rewards\n",
    "    update_interval: interval after which to update the network with new parameters\n",
    "    \"\"\"\n",
    "    \n",
    "    def __init__(self, device = device, num_agents=1, im_height = 464, im_width = 464, obs_in_channels=4, conv_dim = 32,  \n",
    "                 kernel_size = 6, n_actions = 5, buffer_size = 2**20, roll_out = 5, replay_batch_size = 32,\n",
    "                 lr = 1e-4, epsilon = 0.3, epsilon_decay_rate = 0.999, tau = 1e-3, gamma = 1, update_interval = 4):\n",
    "        super().__init__()\n",
    "        self.device = device\n",
    "        self.num_agents = num_agents\n",
    "        self.im_height = im_height\n",
    "        self.im_width = im_width\n",
    "        self.in_channels = obs_in_channels\n",
    "        self.conv_dim = conv_dim\n",
    "        self.kernel_size = kernel_size\n",
    "        self.n_actions = n_actions\n",
    "        self.buffer_size = buffer_size\n",
    "        self.roll_out = roll_out\n",
    "        self.replay_batch_size = replay_batch_size\n",
    "        self.lr = lr\n",
    "        self.epsilon = epsilon\n",
    "        self.epsilon_decay_rate = epsilon_decay_rate\n",
    "        self.tau = tau\n",
    "        self.gamma = gamma # we want the train to find the shortest possible path to its destination\n",
    "                           # for every time step it gets a reward of -1\n",
    "                           # it makes sense to keep gamma = 1 \n",
    "        self.update_every = update_interval        \n",
    "                \n",
    "        self.local_net = [DuellingDQN(obs_in_channels, conv_dim, kernel_size, n_actions) for _ in range(num_agents)]\n",
    "        self.target_net = []\n",
    "        self.optimizer = []\n",
    "        \n",
    "        for agent in range(num_agents):\n",
    "            local = self.local_net[agent]\n",
    "            target = DuellingDQN(obs_in_channels, conv_dim, kernel_size, n_actions)\n",
    "            \n",
    "            # copy the local networks parameters to the target network\n",
    "            for local_param, target_param in zip(local.parameters(), target.parameters()):\n",
    "                target_param.data.copy_(local_param.data)\n",
    "            \n",
    "            self.target_net.append(target)\n",
    "            \n",
    "            local = local.to(device)\n",
    "            target = target.to(device)\n",
    "            \n",
    "            # set the optimizer for the local network\n",
    "            optim = torch.optim.Adam(local.parameters(), lr = lr)\n",
    "        \n",
    "        # loss function to compare the Q-value of the local and the target network\n",
    "        self.criterion = nn.MSELoss()\n",
    "        \n",
    "        # steps counter to keep track of steps passed between updates\n",
    "        self.t_step = 0\n",
    "        \n",
    "        # need to fix this to store images as memories. \n",
    "        # for the time being using a dummy value for n_states\n",
    "        n_states = 264\n",
    "        self.memory = PrioritizedReplay(buffer_size, n_states, n_actions, roll_out, num_agents)\n",
    "        \n",
    "    def act(self, state):\n",
    "        # function to produce an action from the DQN\n",
    "        # convert states to a torch tensor and move to the device\n",
    "        # unsqueeze at index 1 to convert the state for each agent into a batch of size 1\n",
    "        state = torch.from_numpy(state).unsqueeze(0).float().to(device)\n",
    "        actions_list = []\n",
    "        with torch.no_grad():\n",
    "            for idx in range(self.num_agents):\n",
    "                self.local_net[idx].eval()\n",
    "                actionQ = self.local_net[idx](state).cpu().detach().numpy()[0]\n",
    "                    \n",
    "                # choose action with epsilon-greedy policy\n",
    "                random_num = np.random.uniform()\n",
    "                if random_num > self.epsilon:\n",
    "                    action = np.argmax(actionQ)\n",
    "                else:\n",
    "                    action = np.random.randint(self.n_actions+1)\n",
    "                    \n",
    "                actions_list.append(action)\n",
    "                self.local_net[idx].train()\n",
    "        actions_array = np.array(actions_list)        \n",
    "        return actions_array # each entry is the action for the corresponding agent\n",
    "    \n",
    "    \n",
    "    def step(self, new_memories):\n",
    "        \n",
    "        # new memories is a list of n tuples\n",
    "        # here n = roll_out\n",
    "        # each tuple corresponds to a step in the roll_out\n",
    "        # each tuples contains: state, actions_dict, all_rewards, next_state, done\n",
    "        # here state and next_state are given by an image of the entire network\n",
    "        self.memory.add(new_memories)\n",
    "        \n",
    "        # update the networks after every self.update_every steps\n",
    "        # make sure to check that the replay_buffer has enough memories\n",
    "        self.t_step = (self.t_step+1)%self.update_every\n",
    "        if self.t_step == 0 and self.memory.__len__() > 2*self.replay_batch_size:\n",
    "            self.learn()\n",
    "            self.epsilon = max(self.epsilon_decay_rate*self.epsilon, 0.1 )\n",
    "        \n",
    "    \n",
    "    \n",
    "    def learn(self):\n",
    "        # sample a batch of memories from the replay buffer\n",
    "        self.memory.sample(self.replay_batch_size)\n",
    "        \n",
    "        pass"
   ]
  },
  {
   "cell_type": "code",
   "execution_count": 4,
   "metadata": {},
   "outputs": [
    {
     "name": "stdout",
     "output_type": "stream",
     "text": [
      "[NbConvertApp] Converting notebook DuellingDoubleDQNAgent.ipynb to script\n",
      "[NbConvertApp] Writing 6256 bytes to DuellingDoubleDQNAgent.py\n"
     ]
    }
   ],
   "source": [
    "!jupyter nbconvert --to script DuellingDoubleDQNAgent.ipynb"
   ]
  }
 ],
 "metadata": {
  "kernelspec": {
   "display_name": "Python [conda env:flatland-rl]",
   "language": "python",
   "name": "conda-env-flatland-rl-py"
  },
  "language_info": {
   "codemirror_mode": {
    "name": "ipython",
    "version": 3
   },
   "file_extension": ".py",
   "mimetype": "text/x-python",
   "name": "python",
   "nbconvert_exporter": "python",
   "pygments_lexer": "ipython3",
   "version": "3.6.10"
  }
 },
 "nbformat": 4,
 "nbformat_minor": 4
}
